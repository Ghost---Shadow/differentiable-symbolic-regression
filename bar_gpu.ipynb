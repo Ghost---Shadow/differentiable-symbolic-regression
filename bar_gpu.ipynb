{
 "metadata": {
  "language_info": {
   "codemirror_mode": {
    "name": "ipython",
    "version": 3
   },
   "file_extension": ".py",
   "mimetype": "text/x-python",
   "name": "python",
   "nbconvert_exporter": "python",
   "pygments_lexer": "ipython3",
   "version": "3.7.6-final"
  },
  "orig_nbformat": 2,
  "kernelspec": {
   "name": "python37664bit238183a89ccd4c25acc508071275f29e",
   "display_name": "Python 3.7.6 64-bit"
  }
 },
 "nbformat": 4,
 "nbformat_minor": 2,
 "cells": [
  {
   "cell_type": "code",
   "execution_count": 1,
   "metadata": {},
   "outputs": [],
   "source": [
    "import tensorflow as tf\n",
    "import numpy as np\n"
   ]
  },
  {
   "cell_type": "code",
   "execution_count": 38,
   "metadata": {
    "tags": []
   },
   "outputs": [
    {
     "output_type": "execute_result",
     "data": {
      "text/plain": "'(((x_0 + x_1) + (x_2 - x_3)) + ((x_4 * x_5) - (x_6 / x_7)))'"
     },
     "metadata": {},
     "execution_count": 38
    }
   ],
   "source": [
    "def pretty_print_guess_tensor(const_guess, operand_guess, operator_guess):\n",
    "    # TODO: const_guess\n",
    "\n",
    "    # tf.debugging.assert_rank(const_guess, 3)\n",
    "    tf.debugging.assert_rank(operand_guess, 2)\n",
    "    tf.debugging.assert_rank(operator_guess, 3)\n",
    "\n",
    "    s = []\n",
    "\n",
    "    for t in operand_guess:\n",
    "        s += [f'x_{tf.argmax(t)}']\n",
    "\n",
    "    operator_lookup = ['+','-', '*','/']\n",
    "    result = s[::]\n",
    "    for i, op_one_hot in enumerate(operator_guess):\n",
    "        operators = tf.argmax(op_one_hot,axis=-1)\n",
    "        left = result[::2]\n",
    "        right = (result[1:] + result[:1])[::2]\n",
    "        ops = operators[:len(left)]\n",
    "        result = []\n",
    "        for l, op, r in zip(left, ops, right):\n",
    "            result += [f'({l} {operator_lookup[op]} {r})']\n",
    "\n",
    "\n",
    "    return ' '.join(result)\n",
    "\n",
    "NUM_LEAVES = 8\n",
    "NUM_OPERATORS = 4\n",
    "v1 = tf.range(NUM_LEAVES)\n",
    "v2 = tf.range(NUM_OPERATORS)\n",
    "\n",
    "cgv = tf.one_hot(v1 // 2, NUM_LEAVES//2, dtype=tf.float32)\n",
    "const_guess = tf.concat([cgv, cgv],axis=1)\n",
    "operand_guess = tf.one_hot(v1, NUM_LEAVES, dtype=tf.float32)\n",
    "ogv = tf.expand_dims(tf.one_hot(v2, NUM_OPERATORS, dtype=tf.float32), axis=0)\n",
    "operator_guess = tf.concat([ogv,ogv,ogv], axis=0)\n",
    "\n",
    "pretty_print_guess_tensor(const_guess, operand_guess, operator_guess)"
   ]
  },
  {
   "cell_type": "code",
   "execution_count": 21,
   "metadata": {
    "tags": []
   },
   "outputs": [
    {
     "output_type": "execute_result",
     "data": {
      "text/plain": "<tf.Tensor: shape=(2, 2, 4), dtype=float32, numpy=\narray([[[100.,   0.,   0.,   0.],\n        [ 50.,  50.,   0.,   0.]],\n\n       [[ 33.,  33.,  33.,   0.],\n        [ 50.,  25.,  25.,   0.]]], dtype=float32)>"
     },
     "metadata": {},
     "execution_count": 21
    }
   ],
   "source": [
    "@tf.function\n",
    "def to_prob_dist_all(v):\n",
    "    v2 = tf.sqrt(tf.square(v)+1e-9)\n",
    "    # v2 = tf.sqrt(tf.square(v))\n",
    "    m = tf.expand_dims(tf.reduce_sum(v2, axis=-1),-1)\n",
    "    n = tf.math.divide_no_nan(v2, m)\n",
    "    return n\n",
    "\n",
    "# tf.print(tf.argmax(operator_guess))\n",
    "# tf.print(tf.argmax(to_prob_dist_all(operator_guess)))\n",
    "tf.round(to_prob_dist_all([\n",
    "[[1., 0, 0, 0], [1., 1, 0, 0]],\n",
    "[[1., 1, 1, 0], [50, 25, 25, 0]]\n",
    "])*100)"
   ]
  },
  {
   "cell_type": "code",
   "execution_count": 22,
   "metadata": {
    "tags": []
   },
   "outputs": [
    {
     "output_type": "stream",
     "name": "stdout",
     "text": "[[-0 1 0.811278105]]\n[[[-1.44269502 29.8973541]\n  [-0.442695022 -0.442695022]\n  [-1.02765751 0.557305]]]\n"
    }
   ],
   "source": [
    "@tf.function\n",
    "def cross_entropy(x, y, epsilon = 1e-9):\n",
    "    return -2 * tf.reduce_mean(y * tf.math.log(x + epsilon), -1) / tf.math.log(2.)\n",
    "\n",
    "x = tf.constant([[\n",
    "    [1.0,0],\n",
    "    [0.5,0.5],\n",
    "    [.75,.25]\n",
    "    ]]\n",
    ",dtype=tf.float32)\n",
    "\n",
    "with tf.GradientTape() as tape:\n",
    "    tape.watch(x)\n",
    "    y = cross_entropy(x, x)\n",
    "\n",
    "tf.print(y)\n",
    "tf.print(tape.gradient(y, x))"
   ]
  },
  {
   "cell_type": "code",
   "execution_count": 5,
   "metadata": {},
   "outputs": [],
   "source": [
    "@tf.function\n",
    "def entropy(x):\n",
    "    return cross_entropy(x, x)"
   ]
  },
  {
   "cell_type": "code",
   "execution_count": 23,
   "metadata": {},
   "outputs": [
    {
     "output_type": "execute_result",
     "data": {
      "text/plain": "<tf.Tensor: shape=(2, 1), dtype=int32, numpy=\narray([[12],\n       [27]])>"
     },
     "metadata": {},
     "execution_count": 23
    }
   ],
   "source": [
    "@tf.function\n",
    "def dot(x, y):\n",
    "    r = tf.multiply(x, y)\n",
    "    return tf.reduce_sum(r, -1)\n",
    "\n",
    "x = tf.constant([\n",
    "    [[2,2,2]],\n",
    "    [[3,3,3]]\n",
    "])\n",
    "\n",
    "dot(x, x)"
   ]
  },
  {
   "cell_type": "code",
   "execution_count": 85,
   "metadata": {
    "tags": []
   },
   "outputs": [
    {
     "output_type": "stream",
     "name": "stdout",
     "text": "[[[1 2 3]\n  [4 5 6]]\n\n [[8 9 8]\n  [17 33 22]]]\n[[[-0.000190019608 0 0]\n  [-0 -1.1920929e-07 0]\n  [-0 -0 0.000190496445]]\n\n [[-3.00009489 2.99981 0]\n  [-0 -0 0.00113773346]\n  [-3.99999976 4.76837158e-07 4]]]\n"
    }
   ],
   "source": [
    "@tf.function\n",
    "def resolve_values(const_guess, values, operand_guess):\n",
    "    # TODO: const_guess\n",
    "\n",
    "    # tf.debugging.assert_rank(const_guess, 3)\n",
    "    tf.debugging.assert_rank(values, 3) # [outer_batch, inner_batch, VALUES_SIZE]\n",
    "    tf.debugging.assert_rank(operand_guess, 3) # [outer_batch, LEAVES_SIZE, VALUES_SIZE]\n",
    "\n",
    "    values_shape = tf.shape(values)\n",
    "    operands_shape = tf.shape(operand_guess)\n",
    "\n",
    "    outer_batch, inner_batch, VALUES_SIZE = [values_shape[0], values_shape[1], values_shape[2]]\n",
    "    outer_batch, LEAVES_SIZE, VALUES_SIZE = [operands_shape[0], operands_shape[1], operands_shape[2]]\n",
    "\n",
    "    # Broadcast the operand choices\n",
    "    operand_guess = tf.expand_dims(operand_guess, axis=1)\n",
    "    operand_guess = tf.tile(operand_guess, [1,inner_batch,1,1]) # [outer_batch, inner_batch, LEAVES_SIZE, VALUES_SIZE]\n",
    "\n",
    "    # Broadcast the values\n",
    "    values = tf.expand_dims(values, axis=2)\n",
    "    values = tf.tile(values, [1, 1, LEAVES_SIZE, 1]) # [outer_batch, inner_batch, LEAVES_SIZE, VALUES_SIZE]\n",
    "\n",
    "    # Dot product\n",
    "    operand_guess = to_prob_dist_all(operand_guess)\n",
    "    result = dot(values, operand_guess) # [outer_batch, inner_batch, LEAVES_SIZE]\n",
    "\n",
    "    return result\n",
    "\n",
    "# v1 = tf.range(NUM_LEAVES)\n",
    "# cgv = tf.one_hot(v1 // 2, NUM_LEAVES//2, dtype=tf.float32)\n",
    "# const_guess = tf.concat([cgv, cgv],axis=1)\n",
    "\n",
    "operand_guess = tf.Variable([\n",
    "    [[1,0,0], [0,1,0], [0,0,1]],\n",
    "    [[1,1,0], [0,0,1], [1,1,1]],\n",
    "],dtype=tf.float32)\n",
    "\n",
    "values = tf.constant([\n",
    "    [[1,2,3],\n",
    "    [4,5,6]],\n",
    "    [[7,8,9],\n",
    "    [11,22,33]],\n",
    "], dtype=tf.float32)\n",
    "\n",
    "with tf.GradientTape() as tape:\n",
    "    result = resolve_values(const_guess, values, operand_guess)\n",
    "\n",
    "grads = tape.gradient(result, operand_guess)\n",
    "\n",
    "tf.print(tf.round(result))\n",
    "tf.print(grads)"
   ]
  },
  {
   "cell_type": "code",
   "execution_count": 136,
   "metadata": {
    "tags": []
   },
   "outputs": [
    {
     "output_type": "stream",
     "name": "stdout",
     "text": "WARNING:tensorflow:7 out of the last 1006 calls to <function resolve_values at 0x0000023AF25D5E58> triggered tf.function retracing. Tracing is expensive and the excessive number of tracings could be due to (1) creating @tf.function repeatedly in a loop, (2) passing tensors with different shapes, (3) passing Python objects instead of tensors. For (1), please define your @tf.function outside of the loop. For (2), @tf.function has experimental_relax_shapes=True option that relaxes argument shapes that can avoid unnecessary retracing. For (3), please refer to https://www.tensorflow.org/tutorials/customization/performance#python_or_tensor_args and https://www.tensorflow.org/api_docs/python/tf/function for  more details.\n[[[0.125 0.125 0.125 ... 0.125 0.125 0.125]]\n\n [[0.125 0.125 0.125 ... 0.125 0.125 0.125]]]\nWARNING:tensorflow:7 out of the last 1006 calls to <function entropy at 0x0000023904AE4438> triggered tf.function retracing. Tracing is expensive and the excessive number of tracings could be due to (1) creating @tf.function repeatedly in a loop, (2) passing tensors with different shapes, (3) passing Python objects instead of tensors. For (1), please define your @tf.function outside of the loop. For (2), @tf.function has experimental_relax_shapes=True option that relaxes argument shapes that can avoid unnecessary retracing. For (3), please refer to https://www.tensorflow.org/tutorials/customization/performance#python_or_tensor_args and https://www.tensorflow.org/api_docs/python/tf/function for  more details.\n[[0.75]\n [0.75]]\n"
    }
   ],
   "source": [
    "# operand_guess = tf.one_hot(v1, NUM_LEAVES, dtype=tf.float32)\n",
    "operand_guess = to_prob_dist_all(tf.constant([\n",
    "    [[ 1,1,1,1, 1,1,1,1]],\n",
    "    [[ 1,1,1,1, 1,1,1,1]],\n",
    "],dtype=tf.float32))\n",
    "\n",
    "operand_guess = tf.Variable(operand_guess)\n",
    "values = tf.constant([\n",
    "    [[1,2,3,4, 5,6,7,8],\n",
    "    [2,4,6,8,10,12,14,16]],\n",
    "    [[1,2,3,4, 5,6,7,8],\n",
    "    [3,6,9,12,15,18,21,24]],\n",
    "],dtype=tf.float32)\n",
    "target = tf.constant([\n",
    "    [[3],[6]],\n",
    "    [[3],[9]]\n",
    "],dtype=tf.float32)\n",
    "with tf.GradientTape() as tape:\n",
    "    resolved = resolve_values(const_guess, values, operand_guess)\n",
    "    loss = tf.nn.l2_loss(resolved - target)\n",
    "\n",
    "grads = tape.gradient(loss, operand_guess)\n",
    "\n",
    "# tf.print(tf.round(resolved))\n",
    "# # tf.print(resolved - target)\n",
    "# print(grads)\n",
    "tf.print(operand_guess)\n",
    "tf.print(entropy(operand_guess))"
   ]
  },
  {
   "cell_type": "code",
   "execution_count": 141,
   "metadata": {
    "tags": []
   },
   "outputs": [
    {
     "output_type": "stream",
     "name": "stdout",
     "text": "grad_mag\tloss\ttarget_loss\tentropy_loss\tresolved\tdist\n19.8168411 16.875 16.875 -0 [4.5 9] array([[13, 13, 13, 13, 13, 13, 12, 12]])\n39.5153236 9.73279381 1.30473399 0.842806 [3.65213013 7.30426025] array([[ 0,  6, 74,  4,  4,  4,  4,  4]])\n66.4609299 3.12039328 0.0624751598 0.305791795 [3.07909274 6.15818548] array([[ 0,  0, 97,  1,  1,  1,  0,  0]])\n95.6510544 1.79596531 0.0517166853 0.174424857 [3.00281906 6.00563812] array([[  0,   0, 100,   0,   0,   0,   0,   0]])\n109.240227 1.6084348 0.0509988107 0.155743599 [3.00089931 6.00179863] array([[  0,   0, 100,   0,   0,   0,   0,   0]])\n115.199 1.59715235 0.0508324131 0.154632 [3.00067759 6.00135517] array([[  0,   0, 100,   0,   0,   0,   0,   0]])\n92.7105637 1.67991674 0.0490814187 0.163083524 [3.00306964 6.00613928] array([[  0,   0, 100,   0,   0,   0,   0,   0]])\n86.9043427 1.73169053 0.0478962697 0.168379426 [3.00478315 6.00956631] array([[  0,   0, 100,   0,   0,   0,   0,   0]])\n83.7797089 1.76938772 0.0470183194 0.172236949 [3.00609207 6.01218414] array([[  0,   0, 100,   0,   0,   0,   0,   0]])\n81.6843643 1.79961586 0.0463048182 0.175331101 [3.00717187 6.01434374] array([[  0,   0, 100,   0,   0,   0,   0,   0]])\n"
    },
    {
     "output_type": "execute_result",
     "data": {
      "text/plain": "array([[  0,   0, 100,   0,   0,   0,   0,   0],\n       [  0,  85,   0,   0,   0,   0,   0,  15]])"
     },
     "metadata": {},
     "execution_count": 141
    }
   ],
   "source": [
    "# operand_guess = tf.one_hot(v1, NUM_LEAVES, dtype=tf.float32)\n",
    "operand_guess = tf.constant([\n",
    "    [[ 1,1,1,1, 1,1,1,1]],\n",
    "    [[ 1,1,1,1, 1,1,1,1]],\n",
    "],dtype=tf.float32)\n",
    "\n",
    "operand_guess = tf.Variable(operand_guess)\n",
    "values = tf.constant([\n",
    "    [[1,2,3,4, 5,6,7,8],\n",
    "    [2,4,6,8,10,12,14,16]],\n",
    "    [[1,2,3,4, 5,6,7,8],\n",
    "    [3,6,9,12,15,18,21,24]],\n",
    "],dtype=tf.float32)\n",
    "target = tf.constant([\n",
    "    [[3],[6]],\n",
    "    [[3],[9]]\n",
    "],dtype=tf.float32)\n",
    "\n",
    "# opt = tf.keras.optimizers.Adam(3e-4)\n",
    "lr_schedule = tf.keras.optimizers.schedules.ExponentialDecay(\n",
    "    1e-1,\n",
    "    decay_steps=100,\n",
    "    decay_rate=1e-1,\n",
    "    staircase=True)\n",
    "\n",
    "opt = tf.keras.optimizers.Adam(lr_schedule)\n",
    "\n",
    "tf.print('grad_mag\\tloss\\ttarget_loss\\tentropy_loss\\tresolved\\tdist')\n",
    "steps = 1000\n",
    "for i in range(steps):\n",
    "    with tf.GradientTape() as tape:\n",
    "        resolved = resolve_values(const_guess, values, operand_guess)\n",
    "\n",
    "        target_loss = tf.nn.l2_loss(resolved - target)\n",
    "        entropy_loss = tf.reduce_sum(entropy(operand_guess))\n",
    "\n",
    "        loss = target_loss + entropy_loss * 1e+1\n",
    "    \n",
    "    variables = [operand_guess]\n",
    "    grads = tape.gradient(loss, variables)\n",
    "    grad_mag = tf.sqrt(tf.reduce_sum(tf.square(grads)))\n",
    "    opt.apply_gradients(zip(grads, variables))\n",
    "\n",
    "    operand_guess.assign(to_prob_dist_all(operand_guess))\n",
    "\n",
    "    if i % (steps // 10) == 0:\n",
    "        print_idx = 0\n",
    "        dist = list(tf.round(operand_guess * 100).numpy().astype(np.int32))\n",
    "        # tf.print(tf.squeeze(resolved)[print_idx], loss[print_idx], target_loss, entropy_loss[print_idx], dist[print_idx])\n",
    "        tf.print(grad_mag, loss, target_loss, entropy_loss, tf.squeeze(resolved)[print_idx],  dist[print_idx])\n",
    "\n",
    "np.vstack(tf.round(operand_guess * 100).numpy().astype(np.int32))"
   ]
  },
  {
   "cell_type": "code",
   "execution_count": 8,
   "metadata": {
    "tags": []
   },
   "outputs": [
    {
     "output_type": "stream",
     "name": "stdout",
     "text": "152.184158 -0 [0.999873519 -0.999536216 19.9983807 0.858769] [0 1 2 3]\n0.0415764526 2.35339117 [0.984164834 5.28512764 9.03927135 12.9921169] [0 2 2 3]\n0.0340516455 2.36072421 [0.981587708 5.25888062 9.01051903 12.9748116] [0 2 2 3]\n0.041841168 2.32249355 [0.980450511 5.28663635 9.01120377 12.968153] [0 0 2 3]\n0.086477 2.19131327 [0.978189945 5.41216087 9.01288605 12.9506474] [0 0 2 3]\n0.0639940351 1.94902551 [0.976990163 5.35166645 9.01619434 12.9406109] [0 0 2 3]\n0.0412553661 1.79181194 [0.9779616 5.27859306 9.01608849 12.9355631] [0 0 2 3]\n0.0186342839 1.72558236 [0.97842139 5.17910862 9.0161171 12.9331923] [0 0 2 3]\n0.00273088086 1.50006711 [0.979037404 5.00619078 9.01615334 12.9312754] [0 0 2 3]\n0.00394719327 1.36542809 [0.979485512 4.95314 9.01621 12.929184] [0 0 2 3]\n"
    }
   ],
   "source": [
    "operands = tf.range(NUM_LEAVES, dtype=tf.float32)\n",
    "v2 = tf.range(NUM_OPERATORS)\n",
    "operators = tf.constant([\n",
    "    [1,0,0,0],\n",
    "    [0,1,0,0],\n",
    "    [0,0,1,0],\n",
    "    [0,0,0,1],\n",
    "],dtype=tf.float32)\n",
    "# operators = tf.constant([\n",
    "#     [1,0,0,0],\n",
    "#     [1,0,0,0],\n",
    "#     [1,0,0,0],\n",
    "#     [1,0,0,0],\n",
    "# ],dtype=tf.float32)\n",
    "\n",
    "operands = tf.Variable(operands)\n",
    "operators = tf.Variable(operators)\n",
    "\n",
    "# opt = tf.keras.optimizers.Adam(3e-4)\n",
    "opt = tf.keras.optimizers.Adam(1e-2)\n",
    "# opt = tf.keras.optimizers.SGD(1e-2)\n",
    "\n",
    "target = tf.constant([1,5,9,13],dtype=tf.float32)\n",
    "\n",
    "@tf.function\n",
    "def operate(operands, operators):\n",
    "    left = operands[::2]\n",
    "    right = tf.roll(operands, shift=-1, axis=0)[::2]\n",
    "\n",
    "    r_add = left + right\n",
    "    r_sub = left - right\n",
    "    r_mul = left * right\n",
    "    r_div = tf.math.divide_no_nan(left, right)\n",
    "\n",
    "    r = tf.stack([r_add, r_sub, r_mul, r_div], axis=1)\n",
    "\n",
    "    # operators = tf.nn.softmax(operators, axis=-1)\n",
    "    operators = to_prob_dist_all(operators)\n",
    "\n",
    "    return dot(r, operators)\n",
    "\n"
   ]
  },
  {
   "cell_type": "code",
   "execution_count": null,
   "metadata": {},
   "outputs": [],
   "source": [
    "@tf.function\n",
    "def operate_train_step(operands, operators, target):\n",
    "    with tf.GradientTape() as tape:\n",
    "        result = operate(operands, operators)\n",
    "        target_loss = tf.nn.l2_loss(target - result)\n",
    "\n",
    "        entropy_loss = tf.reduce_sum(entropy(operators))\n",
    "\n",
    "        loss = target_loss + entropy_loss\n",
    "\n",
    "    variables = [operators]\n",
    "    grads = tape.gradient(loss, variables)\n",
    "\n",
    "    opt.apply_gradients(zip(grads, variables))\n",
    "    operators.assign(to_prob_dist_all(operators))\n",
    "\n",
    "    return loss, target_loss, entropy_loss, result\n",
    "\n",
    "steps = 1000\n",
    "for i in range(steps):\n",
    "    loss, target_loss, entropy_loss, result = operate_train_step(operands, operators, target)\n",
    "\n",
    "    if i % (steps // 10) == 0:\n",
    "        tf.print(target_loss, entropy_loss, result, tf.argmax(operators, axis=-1))"
   ]
  },
  {
   "cell_type": "code",
   "execution_count": 9,
   "metadata": {
    "tags": []
   },
   "outputs": [
    {
     "output_type": "stream",
     "name": "stdout",
     "text": "(((x_0 + x_1) + (x_2 - x_3)) + ((x_4 * x_5) - (x_6 / x_7)))\n19.142857142857142\n[19.1372566]\n[[1.00041687 1.00029039 1.00045919 -1.00023425]\n [4.99858665 3.99898624 -0.143142194 0.122262307]]\n[[[0.000126719475 0 0 0]\n  [0 -0.000464081764 0 0]\n  [0 0 0.00161933899 0]\n  [0 0 0 0.00162553787]]\n\n [[2.67056748e-07 0 0 0]\n  [0 -0.000123977661 0 0]\n  [0 0 0 0]\n  [0 0 0 0]]\n\n [[0.00241851807 0 0 0]\n  [0 0 0 0]\n  [0 0 0 0]\n  [0 0 0 0]]]\n"
    }
   ],
   "source": [
    "def eager_process_block(operands, operators_arr):\n",
    "    acc = operands\n",
    "\n",
    "    for operators in operators_arr:\n",
    "        num_operands = tf.shape(acc)[0]\n",
    "        operators = operators[:num_operands // 2]\n",
    "        acc = operate(acc, operators)\n",
    "\n",
    "    return acc\n",
    "\n",
    "NUM_LEAVES = 8\n",
    "NUM_OPERATORS = 4\n",
    "v1 = tf.range(NUM_LEAVES)\n",
    "v2 = tf.range(NUM_OPERATORS)\n",
    "\n",
    "cgv = tf.one_hot(v1 // 2, NUM_LEAVES//2, dtype=tf.float32)\n",
    "const_guess = tf.concat([cgv, cgv],axis=1)\n",
    "operand_guess = tf.one_hot(v1, NUM_LEAVES, dtype=tf.float32)\n",
    "ogv = tf.expand_dims(tf.one_hot(v2, NUM_OPERATORS, dtype=tf.float32), axis=0)\n",
    "operator_guess = tf.concat([ogv,ogv,ogv], axis=0)\n",
    "values = tf.cast(v1,dtype=tf.float32)\n",
    "operands = resolve_values(const_guess, values, operand_guess)\n",
    "\n",
    "with tf.GradientTape(persistent=True) as tape:\n",
    "    tape.watch(operands)\n",
    "    tape.watch(operator_guess)\n",
    "    result = eager_process_block(operands, operator_guess)\n",
    "\n",
    "tf.print(pretty_print_guess_tensor(const_guess, operand_guess, operator_guess))\n",
    "x_0, x_1, x_2, x_3, x_4, x_5, x_6, x_7 = list(range(8))\n",
    "tf.print((((x_0 + x_1) + (x_2 - x_3)) + ((x_4 * x_5) - (x_6 / x_7))))\n",
    "tf.print(result)\n",
    "tf.print(tf.reshape(tape.gradient(result, operands),(2,4)))\n",
    "tf.print(tape.gradient(result, operator_guess))"
   ]
  },
  {
   "cell_type": "code",
   "execution_count": 10,
   "metadata": {
    "tags": []
   },
   "outputs": [
    {
     "output_type": "stream",
     "name": "stdout",
     "text": "(((x_0 + x_1) + (x_2 - x_3)) + ((x_4 * x_5) - (x_6 / x_7)))\n19.142857142857142\n[19.1372566]\n[[1.00041687 1.00029039 1.00045919 -1.00023425]\n [4.99858665 3.99898624 -0.143142194 0.122262307]]\n[[[0.000126719475 0 0 0]\n  [0 -0.000464081764 0 0]\n  [0 0 0.00161933899 0]\n  [0 0 0 0.00162553787]]\n\n [[2.67056748e-07 0 0 0]\n  [0 -0.000123977661 0 0]\n  [0 0 0 0]\n  [0 0 0 0]]\n\n [[0.00241851807 0 0 0]\n  [0 0 0 0]\n  [0 0 0 0]\n  [0 0 0 0]]]\n"
    }
   ],
   "source": [
    "@tf.function\n",
    "def unrolled_process_block_3(operands, operators_arr):\n",
    "    acc = operands\n",
    "\n",
    "    # Level 1\n",
    "    operators = operators_arr[0]\n",
    "    operators = operators[:4]\n",
    "    acc = operate(acc, operators)\n",
    "\n",
    "    # Level 2\n",
    "    operators = operators_arr[1]\n",
    "    operators = operators[:2]\n",
    "    acc = operate(acc, operators)\n",
    "\n",
    "    # Level 3\n",
    "    operators = operators_arr[2]\n",
    "    operators = operators[:1]\n",
    "    acc = operate(acc, operators)\n",
    "\n",
    "    return acc\n",
    "\n",
    "NUM_LEAVES = 8\n",
    "NUM_OPERATORS = 4\n",
    "v1 = tf.range(NUM_LEAVES)\n",
    "v2 = tf.range(NUM_OPERATORS)\n",
    "\n",
    "cgv = tf.one_hot(v1 // 2, NUM_LEAVES//2, dtype=tf.float32)\n",
    "const_guess = tf.concat([cgv, cgv],axis=1)\n",
    "operand_guess = tf.one_hot(v1, NUM_LEAVES, dtype=tf.float32)\n",
    "ogv = tf.expand_dims(tf.one_hot(v2, NUM_OPERATORS, dtype=tf.float32), axis=0)\n",
    "operator_guess = tf.concat([ogv,ogv,ogv], axis=0)\n",
    "values = tf.cast(v1,dtype=tf.float32)\n",
    "operands = resolve_values(const_guess, values, operand_guess)\n",
    "\n",
    "with tf.GradientTape(persistent=True) as tape:\n",
    "    tape.watch(operands)\n",
    "    tape.watch(operator_guess)\n",
    "    result = unrolled_process_block_3(operands, operator_guess)\n",
    "\n",
    "tf.print(pretty_print_guess_tensor(const_guess, operand_guess, operator_guess))\n",
    "x_0, x_1, x_2, x_3, x_4, x_5, x_6, x_7 = list(range(8))\n",
    "tf.print((((x_0 + x_1) + (x_2 - x_3)) + ((x_4 * x_5) - (x_6 / x_7))))\n",
    "tf.print(result)\n",
    "tf.print(tf.reshape(tape.gradient(result, operands),(2,4)))\n",
    "tf.print(tape.gradient(result, operator_guess))"
   ]
  },
  {
   "cell_type": "code",
   "execution_count": 11,
   "metadata": {},
   "outputs": [
    {
     "output_type": "execute_result",
     "data": {
      "text/plain": "<tf.Tensor: shape=(1,), dtype=float32, numpy=array([19.137257], dtype=float32)>"
     },
     "metadata": {},
     "execution_count": 11
    }
   ],
   "source": [
    "def print_collapsed_result(values, const_guess, operand_guess, operator_guess):\n",
    "    # TODO: const_guess\n",
    "\n",
    "    operands = tf.round(operand_guess)\n",
    "    acc = resolve_values(const_guess, values, operands)\n",
    "    operators = tf.round(operator_guess)\n",
    "\n",
    "    result = eager_process_block(acc, operators)\n",
    "\n",
    "    return result\n",
    "\n",
    "NUM_LEAVES = 8\n",
    "NUM_OPERATORS = 4\n",
    "v1 = tf.range(NUM_LEAVES)\n",
    "v2 = tf.range(NUM_OPERATORS)\n",
    "\n",
    "cgv = tf.one_hot(v1 // 2, NUM_LEAVES//2, dtype=tf.float32)\n",
    "const_guess = tf.concat([cgv, cgv],axis=1)\n",
    "operand_guess = tf.one_hot(v1, NUM_LEAVES, dtype=tf.float32)\n",
    "ogv = tf.expand_dims(tf.one_hot(v2, NUM_OPERATORS, dtype=tf.float32), axis=0)\n",
    "operator_guess = tf.concat([ogv,ogv,ogv], axis=0)\n",
    "\n",
    "print_collapsed_result(values, const_guess, operand_guess, operator_guess)"
   ]
  },
  {
   "cell_type": "code",
   "execution_count": 12,
   "metadata": {
    "tags": []
   },
   "outputs": [
    {
     "output_type": "stream",
     "name": "stdout",
     "text": "(1.66757882, 0.00910403579, 0, 0.00725521892, 0.00932952948)\n[[-0.0836830139 0 0 ... 0 0 0]\n [0 -0.0836334229 0 ... 0 0 0]\n [0 0 -0.0835838318 ... 0 0 0]\n ...\n [0 0 0 ... -0.0832290649 0 0]\n [0 0 0 ... 0 -0.083530426 0]\n [0 0 0 ... 0 0 -0.0834960938]]\n[[[-0.0715789795 0 0 0]\n  [0 -0.0716934204 0 0]\n  [0 0 -0.0712966919 0]\n  [0 0 0 -0.0712966919]]\n\n [[-0.0716018677 0 0 0]\n  [0 -0.0716323853 0 0]\n  [0 0 -0.0716095 0]\n  [0 0 0 -0.0716095]]\n\n [[-0.071144104 0 0 0]\n  [0 -0.0716095 0 0]\n  [0 0 -0.0716095 0]\n  [0 0 0 -0.0716095]]]\n"
    }
   ],
   "source": [
    "def bind_opt_train_step(opt, entropy_weight=1e+2):\n",
    "    @tf.function\n",
    "    def train_step(const_guess, operand_guess, operator_guess, values, target):\n",
    "        with tf.GradientTape() as tape:\n",
    "            cg, opg, otg = const_guess, operand_guess, operator_guess\n",
    "            # cg = tf.nn.softmax(cg)\n",
    "            # opg = tf.nn.softmax(opg)\n",
    "            # otg = tf.nn.softmax(otg)\n",
    "\n",
    "            cg = to_prob_dist_all(cg)\n",
    "            opg = to_prob_dist_all(opg)\n",
    "            otg = to_prob_dist_all(otg)\n",
    "\n",
    "            cg_entropy = 0.0 # TODO\n",
    "            opg_entropy = tf.reduce_sum(entropy(opg))\n",
    "            otg_entropy = tf.reduce_sum(entropy(otg))\n",
    "\n",
    "            operands = resolve_values(cg, values, opg)\n",
    "            result = unrolled_process_block_3(operands, otg)\n",
    "\n",
    "            target_loss = tf.nn.l2_loss(result[0] - target)\n",
    "\n",
    "            loss = target_loss\n",
    "\n",
    "            if target_loss < 1:\n",
    "                loss += entropy_weight * (opg_entropy + otg_entropy)\n",
    "\n",
    "        variables = [operand_guess, operator_guess]\n",
    "        grads = tape.gradient(loss, variables)\n",
    "        # grads = [tf.clip_by_norm(g, 100.0) for g in grads]\n",
    "        opt.apply_gradients(zip(grads, variables))\n",
    "\n",
    "        const_guess.assign(to_prob_dist_all(const_guess))\n",
    "        operand_guess.assign(to_prob_dist_all(operand_guess))\n",
    "        operator_guess.assign(to_prob_dist_all(operator_guess))\n",
    "\n",
    "        return loss, target_loss, cg_entropy, opg_entropy, otg_entropy\n",
    "\n",
    "    return train_step\n",
    "\n",
    "NUM_LEAVES = 8\n",
    "NUM_OPERATORS = 4\n",
    "v1 = tf.range(NUM_LEAVES)\n",
    "v2 = tf.range(NUM_OPERATORS)\n",
    "\n",
    "cgv = tf.one_hot(v1 // 2, NUM_LEAVES//2, dtype=tf.float32)\n",
    "const_guess = tf.concat([cgv, cgv],axis=1)\n",
    "operand_guess = tf.one_hot(v1, NUM_LEAVES, dtype=tf.float32)\n",
    "ogv = tf.expand_dims(tf.one_hot(v2, NUM_OPERATORS, dtype=tf.float32), axis=0)\n",
    "operator_guess = tf.concat([ogv,ogv,ogv], axis=0)\n",
    "values = tf.cast(v1,dtype=tf.float32)\n",
    "\n",
    "const_guess = tf.Variable(const_guess)\n",
    "operand_guess = tf.Variable(operand_guess)\n",
    "operator_guess = tf.Variable(operator_guess)\n",
    "\n",
    "target = 19.0\n",
    "\n",
    "opt = tf.keras.optimizers.Adam(3e-4)\n",
    "# opt = tf.keras.optimizers.SGD(1e-1)\n",
    "train_step = bind_opt_train_step(opt)\n",
    "\n",
    "with tf.GradientTape(persistent=True) as tape:\n",
    "    tape.watch(const_guess)\n",
    "    tape.watch(operand_guess)\n",
    "    tape.watch(operator_guess)\n",
    "\n",
    "    result = train_step(const_guess, operand_guess, operator_guess, values, target)\n",
    "\n",
    "tf.print(result)\n",
    "tf.print(tape.gradient(result, operand_guess))\n",
    "tf.print(tape.gradient(result, operator_guess))"
   ]
  },
  {
   "cell_type": "code",
   "execution_count": 13,
   "metadata": {
    "tags": []
   },
   "outputs": [
    {
     "output_type": "stream",
     "name": "stdout",
     "text": "0 19.1372566 73.6283493 73.6283493 0 0.00725521892 0.00932952948\n100 19.1372566 2.81111312 0.00345588336 0 1.18885708 1.61880016\n200 19.1372566 2.19650316 0.00878225453 0 0.898448706 1.28927231\n300 19.1372566 1.9347347 7.87916069e-05 0 0.862380922 1.07227492\n400 19.1372566 1.96360183 0.104608402 0 0.793349147 1.06564426\n500 19.1372566 1.87586272 0.00224292884 0 0.894468546 0.979151189\n600 19.1372566 1.78837192 0.043634709 0 0.872879863 0.871857405\n700 19.1372566 1.82108438 0.0674607903 0 0.917027 0.836596608\n800 19.1372566 2.20998025 0.530530274 0 0.905871391 0.773578525\n900 19.1372566 2.08362675 0.372966111 0 0.917841613 0.792819\n(((x_0 + x_1) + (x_2 - x_3)) + ((x_4 * x_5) - (x_6 / x_7)))\n"
    }
   ],
   "source": [
    "# opt = tf.keras.optimizers.Adam(3e-4)\n",
    "opt = tf.keras.optimizers.Adam(1e-2)\n",
    "# opt = tf.keras.optimizers.SGD(1e-1)\n",
    "train_step = bind_opt_train_step(opt, 1)\n",
    "\n",
    "NUM_LEAVES = 8\n",
    "NUM_OPERATORS = 4\n",
    "v1 = tf.range(NUM_LEAVES)\n",
    "v2 = tf.range(NUM_OPERATORS)\n",
    "\n",
    "cgv = tf.one_hot(v1 // 2, NUM_LEAVES//2, dtype=tf.float32)\n",
    "const_guess = tf.concat([cgv, cgv],axis=1)\n",
    "operand_guess = tf.one_hot(v1, NUM_LEAVES, dtype=tf.float32)\n",
    "ogv = tf.expand_dims(tf.one_hot(v2, NUM_OPERATORS, dtype=tf.float32), axis=0)\n",
    "operator_guess = tf.concat([ogv,ogv,ogv], axis=0)\n",
    "values = tf.cast(v1,dtype=tf.float32)\n",
    "\n",
    "const_guess = tf.Variable(const_guess)\n",
    "operand_guess = tf.Variable(operand_guess)\n",
    "operator_guess = tf.Variable(operator_guess)\n",
    "\n",
    "target = 7.0\n",
    "steps = 1000\n",
    "for i in range(steps):\n",
    "    loss, target_loss, cg_entropy, opg_entropy, otg_entropy = train_step(const_guess, operand_guess, operator_guess, values, target)\n",
    "\n",
    "    if i % (steps // 10) == 0:\n",
    "        cg = const_guess.numpy()\n",
    "        opg = operand_guess.numpy()\n",
    "        otg = operator_guess.numpy()\n",
    "        collapsed_result = print_collapsed_result(values, cg, opg, otg)\n",
    "\n",
    "        tf.print(i, collapsed_result[0], loss, target_loss, cg_entropy, opg_entropy, otg_entropy)\n",
    "        # tf.print(pretty_print_guess_tensor(cg, opg, otg))\n",
    "tf.print(pretty_print_guess_tensor(cg, opg, otg))"
   ]
  },
  {
   "cell_type": "code",
   "execution_count": 14,
   "metadata": {},
   "outputs": [
    {
     "output_type": "execute_result",
     "data": {
      "text/plain": "<tf.Tensor: shape=(8, 8), dtype=float32, numpy=\narray([[98.,  1.,  0.,  1.,  0.,  0.,  0.,  0.],\n       [ 0., 98.,  1.,  0.,  1.,  0.,  0.,  0.],\n       [ 1.,  0., 98.,  1.,  0.,  0.,  0.,  0.],\n       [ 0.,  1.,  0., 98.,  0.,  1.,  0.,  0.],\n       [23.,  0.,  0.,  0., 76.,  0.,  0.,  0.],\n       [33., 10.,  0.,  0.,  1., 56.,  0.,  0.],\n       [ 1.,  1.,  0.,  1.,  0.,  0., 97.,  1.],\n       [ 1.,  1.,  1.,  0.,  0.,  0.,  1., 96.]], dtype=float32)>"
     },
     "metadata": {},
     "execution_count": 14
    }
   ],
   "source": [
    "tf.round(opg * 100)\n"
   ]
  },
  {
   "cell_type": "code",
   "execution_count": 15,
   "metadata": {},
   "outputs": [
    {
     "output_type": "execute_result",
     "data": {
      "text/plain": "<tf.Tensor: shape=(8,), dtype=float32, numpy=array([ 5.,  5.,  4.,  6., 22., 35.,  7.,  7.], dtype=float32)>"
     },
     "metadata": {},
     "execution_count": 15
    }
   ],
   "source": [
    "tf.round(entropy(opg)*100)"
   ]
  },
  {
   "cell_type": "code",
   "execution_count": 84,
   "metadata": {
    "tags": []
   },
   "outputs": [
    {
     "output_type": "stream",
     "name": "stdout",
     "text": "[[[1 2 3]\n  [4 5 6]]\n\n [[8 9 8]\n  [17 33 22]]]\n[[[-0.000190019608 0 0]\n  [-0 -1.1920929e-07 0]\n  [-0 -0 0.000190496445]]\n\n [[-3.00009489 2.99981 0]\n  [-0 -0 0.00113773346]\n  [-3.99999976 4.76837158e-07 4]]]\n"
    }
   ],
   "source": [
    "@tf.function\n",
    "def resolve_values(const_guess, values, operand_guess):\n",
    "    # TODO: const_guess\n",
    "\n",
    "    # tf.debugging.assert_rank(const_guess, 3)\n",
    "    tf.debugging.assert_rank(values, 3) # [outer_batch, inner_batch, VALUES_SIZE]\n",
    "    tf.debugging.assert_rank(operand_guess, 3) # [outer_batch, LEAVES_SIZE, VALUES_SIZE]\n",
    "\n",
    "    values_shape = tf.shape(values)\n",
    "    operands_shape = tf.shape(operand_guess)\n",
    "\n",
    "    outer_batch, inner_batch, VALUES_SIZE = [values_shape[0], values_shape[1], values_shape[2]]\n",
    "    outer_batch, LEAVES_SIZE, VALUES_SIZE = [operands_shape[0], operands_shape[1], operands_shape[2]]\n",
    "\n",
    "    # Broadcast the operand choices\n",
    "    operand_guess = tf.expand_dims(operand_guess, axis=1)\n",
    "    operand_guess = tf.tile(operand_guess, [1,inner_batch,1,1]) # [outer_batch, inner_batch, LEAVES_SIZE, VALUES_SIZE]\n",
    "\n",
    "    # Broadcast the values\n",
    "    values = tf.expand_dims(values, axis=2)\n",
    "    values = tf.tile(values, [1, 1, LEAVES_SIZE, 1]) # [outer_batch, inner_batch, LEAVES_SIZE, VALUES_SIZE]\n",
    "\n",
    "    # Dot product\n",
    "    operand_guess = to_prob_dist_all(operand_guess)\n",
    "    result = dot(values, operand_guess) # [outer_batch, inner_batch, LEAVES_SIZE]\n",
    "\n",
    "    return result\n",
    "\n",
    "# v1 = tf.range(NUM_LEAVES)\n",
    "# cgv = tf.one_hot(v1 // 2, NUM_LEAVES//2, dtype=tf.float32)\n",
    "# const_guess = tf.concat([cgv, cgv],axis=1)\n",
    "\n",
    "operand_guess = tf.Variable([\n",
    "    [[1,0,0], [0,1,0], [0,0,1]],\n",
    "    [[1,1,0], [0,0,1], [1,1,1]],\n",
    "],dtype=tf.float32)\n",
    "\n",
    "values = tf.constant([\n",
    "    [[1,2,3],\n",
    "    [4,5,6]],\n",
    "    [[7,8,9],\n",
    "    [11,22,33]],\n",
    "], dtype=tf.float32)\n",
    "\n",
    "with tf.GradientTape() as tape:\n",
    "    result = resolve_values(const_guess, values, operand_guess)\n",
    "\n",
    "grads = tape.gradient(result, operand_guess)\n",
    "\n",
    "tf.print(tf.round(result))\n",
    "tf.print(grads)"
   ]
  },
  {
   "cell_type": "code",
   "execution_count": null,
   "metadata": {},
   "outputs": [],
   "source": []
  }
 ]
}