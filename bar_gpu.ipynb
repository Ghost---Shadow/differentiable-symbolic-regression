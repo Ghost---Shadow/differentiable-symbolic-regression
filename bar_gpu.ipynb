{
 "metadata": {
  "language_info": {
   "codemirror_mode": {
    "name": "ipython",
    "version": 3
   },
   "file_extension": ".py",
   "mimetype": "text/x-python",
   "name": "python",
   "nbconvert_exporter": "python",
   "pygments_lexer": "ipython3",
   "version": "3.7.6-final"
  },
  "orig_nbformat": 2,
  "kernelspec": {
   "name": "python37664bit238183a89ccd4c25acc508071275f29e",
   "display_name": "Python 3.7.6 64-bit"
  }
 },
 "nbformat": 4,
 "nbformat_minor": 2,
 "cells": [
  {
   "cell_type": "code",
   "execution_count": 1,
   "metadata": {},
   "outputs": [],
   "source": [
    "import tensorflow as tf"
   ]
  },
  {
   "cell_type": "code",
   "execution_count": 2,
   "metadata": {
    "tags": []
   },
   "outputs": [
    {
     "output_type": "execute_result",
     "data": {
      "text/plain": "'(((x_0 + x_1) + (x_2 - x_3)) + ((x_4 * x_5) - (x_6 / x_7)))'"
     },
     "metadata": {},
     "execution_count": 2
    }
   ],
   "source": [
    "def pretty_print_guess_tensor(const_guess, operand_guess, operator_guess):\n",
    "    # TODO: const_guess\n",
    "\n",
    "    s = []\n",
    "\n",
    "    for t in operand_guess:\n",
    "        s += [f'x_{tf.argmax(t)}']\n",
    "\n",
    "    operator_lookup = ['+','-', '*','/']\n",
    "    result = s[::]\n",
    "    for i, op_one_hot in enumerate(operator_guess):\n",
    "        operators = tf.argmax(op_one_hot,axis=-1)\n",
    "        left = result[::2]\n",
    "        right = (result[1:] + result[:1])[::2]\n",
    "        ops = operators[:len(left)]\n",
    "        result = []\n",
    "        for l, op, r in zip(left, ops, right):\n",
    "            result += [f'({l} {operator_lookup[op]} {r})']\n",
    "\n",
    "\n",
    "    return ' '.join(result)\n",
    "\n",
    "NUM_LEAVES = 8\n",
    "NUM_OPERATORS = 4\n",
    "v1 = tf.range(NUM_LEAVES)\n",
    "v2 = tf.range(NUM_OPERATORS)\n",
    "\n",
    "cgv = tf.one_hot(v1 // 2, NUM_LEAVES//2, dtype=tf.float32)\n",
    "const_guess = tf.concat([cgv, cgv],axis=1)\n",
    "operand_guess = tf.one_hot(v1, NUM_LEAVES, dtype=tf.float32)\n",
    "ogv = tf.expand_dims(tf.one_hot(v2, NUM_OPERATORS, dtype=tf.float32), axis=0)\n",
    "operator_guess = tf.concat([ogv,ogv,ogv], axis=0)\n",
    "\n",
    "pretty_print_guess_tensor(const_guess, operand_guess, operator_guess)"
   ]
  },
  {
   "cell_type": "code",
   "execution_count": 3,
   "metadata": {},
   "outputs": [
    {
     "output_type": "execute_result",
     "data": {
      "text/plain": "<tf.Tensor: shape=(2,), dtype=int32, numpy=array([12, 27])>"
     },
     "metadata": {},
     "execution_count": 3
    }
   ],
   "source": [
    "@tf.function\n",
    "def dot(x, y):\n",
    "    r = tf.multiply(x, y)\n",
    "    return tf.reduce_sum(r, -1)\n",
    "\n",
    "x = tf.constant([\n",
    "    [2,2,2],\n",
    "    [3,3,3]\n",
    "])\n",
    "\n",
    "dot(x, x)"
   ]
  },
  {
   "cell_type": "code",
   "execution_count": 4,
   "metadata": {
    "tags": []
   },
   "outputs": [
    {
     "output_type": "execute_result",
     "data": {
      "text/plain": "<tf.Tensor: shape=(8,), dtype=float32, numpy=array([0., 1., 2., 3., 4., 5., 6., 7.], dtype=float32)>"
     },
     "metadata": {},
     "execution_count": 4
    }
   ],
   "source": [
    "@tf.function\n",
    "def resolve_values(const_guess, values, operand_guess):\n",
    "    # TODO: const_guess\n",
    "\n",
    "    operand_count = tf.shape(operand_guess)[0]\n",
    "    values = tf.expand_dims(values, axis=0)\n",
    "    values = tf.tile(values, [operand_count,1])\n",
    "    \n",
    "    result = dot(values, operand_guess)\n",
    "\n",
    "    return result\n",
    "\n",
    "v1 = tf.range(NUM_LEAVES)\n",
    "cgv = tf.one_hot(v1 // 2, NUM_LEAVES//2, dtype=tf.float32)\n",
    "const_guess = tf.concat([cgv, cgv],axis=1)\n",
    "operand_guess = tf.one_hot(v1, NUM_LEAVES, dtype=tf.float32)\n",
    "values = tf.cast(v1,dtype=tf.float32)\n",
    "\n",
    "resolve_values(const_guess, values, operand_guess)"
   ]
  },
  {
   "cell_type": "code",
   "execution_count": 5,
   "metadata": {
    "tags": []
   },
   "outputs": [
    {
     "output_type": "stream",
     "name": "stdout",
     "text": "[1 -1 20 0.857142866]\n[[1 1 1 -1]\n [5 4 0.142857149 -0.122448981]]\n[[1 -1 0 0]\n [5 -1 6 0.666666687]\n [9 -1 20 0.8]\n [13 -1 42 0.857142866]]\n"
    }
   ],
   "source": [
    "@tf.function\n",
    "def operate(operands, operators):\n",
    "    left = operands[::2]\n",
    "    right = tf.roll(operands, shift=-1, axis=0)[::2]\n",
    "\n",
    "    r_add = left + right\n",
    "    r_sub = left - right\n",
    "    r_mul = left * right\n",
    "    r_div = tf.math.divide_no_nan(left, right)\n",
    "\n",
    "    r = tf.stack([r_add, r_sub, r_mul, r_div], axis=1)\n",
    "\n",
    "    return dot(r, operators)\n",
    "\n",
    "operands = tf.range(NUM_LEAVES, dtype=tf.float32)\n",
    "v2 = tf.range(NUM_OPERATORS)\n",
    "operators = tf.constant([\n",
    "    [1,0,0,0],\n",
    "    [0,1,0,0],\n",
    "    [0,0,1,0],\n",
    "    [0,0,0,1],\n",
    "],dtype=tf.float32)\n",
    "\n",
    "with tf.GradientTape(persistent=True) as tape:\n",
    "    tape.watch(operands)\n",
    "    tape.watch(operators)\n",
    "    result = operate(operands, operators)\n",
    "\n",
    "tf.print(result)\n",
    "tf.print(tf.reshape(tape.gradient(result, operands),(2,4)))\n",
    "tf.print(tape.gradient(result, operators))"
   ]
  },
  {
   "cell_type": "code",
   "execution_count": 15,
   "metadata": {
    "tags": []
   },
   "outputs": [
    {
     "output_type": "stream",
     "name": "stdout",
     "text": "(((x_0 + x_1) + (x_2 - x_3)) + ((x_4 * x_5) - (x_6 / x_7)))\n19.142857142857142\n[19.1428566]\n[1 1 1 ... 4 -0.142857149 0.122448981]\n[[[1 -1 0 0]\n  [5 -1 6 0.666666687]\n  [9 -1 20 0.8]\n  [-13 1 -42 -0.857142866]]\n\n [[0 2 -1 -1]\n  [20.8571434 19.1428566 17.1428566 23.333334]\n  [0 0 0 0]\n  [0 0 0 0]]\n\n [[19.1428566 -19.1428566 0 0]\n  [0 0 0 0]\n  [0 0 0 0]\n  [0 0 0 0]]]\n"
    }
   ],
   "source": [
    "def eager_process_block(operands, operators_arr):\n",
    "    acc = operands\n",
    "\n",
    "    for operators in operators_arr:\n",
    "        num_operands = tf.shape(acc)[0]\n",
    "        operators = operators[:num_operands // 2]\n",
    "        acc = operate(acc, operators)\n",
    "\n",
    "    return acc\n",
    "\n",
    "NUM_LEAVES = 8\n",
    "NUM_OPERATORS = 4\n",
    "v1 = tf.range(NUM_LEAVES)\n",
    "v2 = tf.range(NUM_OPERATORS)\n",
    "\n",
    "cgv = tf.one_hot(v1 // 2, NUM_LEAVES//2, dtype=tf.float32)\n",
    "const_guess = tf.concat([cgv, cgv],axis=1)\n",
    "operand_guess = tf.one_hot(v1, NUM_LEAVES, dtype=tf.float32)\n",
    "ogv = tf.expand_dims(tf.one_hot(v2, NUM_OPERATORS, dtype=tf.float32), axis=0)\n",
    "operator_guess = tf.concat([ogv,ogv,ogv], axis=0)\n",
    "values = tf.cast(v1,dtype=tf.float32)\n",
    "operands = resolve_values(const_guess, values, operand_guess)\n",
    "\n",
    "with tf.GradientTape(persistent=True) as tape:\n",
    "    tape.watch(operands)\n",
    "    tape.watch(operator_guess)\n",
    "    result = eager_process_block(operands, operator_guess)\n",
    "\n",
    "tf.print(pretty_print_guess_tensor(const_guess, operand_guess, operator_guess))\n",
    "x_0, x_1, x_2, x_3, x_4, x_5, x_6, x_7 = list(range(8))\n",
    "tf.print((((x_0 + x_1) + (x_2 - x_3)) + ((x_4 * x_5) - (x_6 / x_7))))\n",
    "tf.print(result)\n",
    "tf.print(tape.gradient(result, operands))\n",
    "tf.print(tape.gradient(result, operator_guess))"
   ]
  },
  {
   "cell_type": "code",
   "execution_count": 19,
   "metadata": {
    "tags": []
   },
   "outputs": [
    {
     "output_type": "stream",
     "name": "stdout",
     "text": "(((x_0 + x_1) + (x_2 - x_3)) + ((x_4 * x_5) - (x_6 / x_7)))\n19.142857142857142\n[19.1428566]\n[1 1 1 ... 4 -0.142857149 0.122448981]\n[[[1 -1 0 0]\n  [5 -1 6 0.666666687]\n  [9 -1 20 0.8]\n  [-13 1 -42 -0.857142866]]\n\n [[0 2 -1 -1]\n  [20.8571434 19.1428566 17.1428566 23.333334]\n  [0 0 0 0]\n  [0 0 0 0]]\n\n [[19.1428566 -19.1428566 0 0]\n  [0 0 0 0]\n  [0 0 0 0]\n  [0 0 0 0]]]\n"
    }
   ],
   "source": [
    "@tf.function\n",
    "def unrolled_process_block_3(operands, operators_arr):\n",
    "    acc = operands\n",
    "\n",
    "    # Level 1\n",
    "    operators = operators_arr[0]\n",
    "    operators = operators[:4]\n",
    "    acc = operate(acc, operators)\n",
    "\n",
    "    # Level 2\n",
    "    operators = operators_arr[1]\n",
    "    operators = operators[:2]\n",
    "    acc = operate(acc, operators)\n",
    "\n",
    "    # Level 3\n",
    "    operators = operators_arr[2]\n",
    "    operators = operators[:1]\n",
    "    acc = operate(acc, operators)\n",
    "\n",
    "    return acc\n",
    "\n",
    "NUM_LEAVES = 8\n",
    "NUM_OPERATORS = 4\n",
    "v1 = tf.range(NUM_LEAVES)\n",
    "v2 = tf.range(NUM_OPERATORS)\n",
    "\n",
    "cgv = tf.one_hot(v1 // 2, NUM_LEAVES//2, dtype=tf.float32)\n",
    "const_guess = tf.concat([cgv, cgv],axis=1)\n",
    "operand_guess = tf.one_hot(v1, NUM_LEAVES, dtype=tf.float32)\n",
    "ogv = tf.expand_dims(tf.one_hot(v2, NUM_OPERATORS, dtype=tf.float32), axis=0)\n",
    "operator_guess = tf.concat([ogv,ogv,ogv], axis=0)\n",
    "values = tf.cast(v1,dtype=tf.float32)\n",
    "operands = resolve_values(const_guess, values, operand_guess)\n",
    "\n",
    "with tf.GradientTape(persistent=True) as tape:\n",
    "    tape.watch(operands)\n",
    "    tape.watch(operator_guess)\n",
    "    result = unrolled_process_block_3(operands, operator_guess)\n",
    "\n",
    "tf.print(pretty_print_guess_tensor(const_guess, operand_guess, operator_guess))\n",
    "x_0, x_1, x_2, x_3, x_4, x_5, x_6, x_7 = list(range(8))\n",
    "tf.print((((x_0 + x_1) + (x_2 - x_3)) + ((x_4 * x_5) - (x_6 / x_7))))\n",
    "tf.print(result)\n",
    "tf.print(tape.gradient(result, operands))\n",
    "tf.print(tape.gradient(result, operator_guess))"
   ]
  },
  {
   "cell_type": "code",
   "execution_count": null,
   "metadata": {},
   "outputs": [],
   "source": []
  }
 ]
}