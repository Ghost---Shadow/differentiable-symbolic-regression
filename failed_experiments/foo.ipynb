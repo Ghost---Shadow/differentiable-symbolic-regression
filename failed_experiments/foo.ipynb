{
 "metadata": {
  "language_info": {
   "codemirror_mode": {
    "name": "ipython",
    "version": 3
   },
   "file_extension": ".py",
   "mimetype": "text/x-python",
   "name": "python",
   "nbconvert_exporter": "python",
   "pygments_lexer": "ipython3",
   "version": "3.7.6-final"
  },
  "orig_nbformat": 2,
  "kernelspec": {
   "name": "python37664bit238183a89ccd4c25acc508071275f29e",
   "display_name": "Python 3.7.6 64-bit"
  }
 },
 "nbformat": 4,
 "nbformat_minor": 2,
 "cells": [
  {
   "cell_type": "code",
   "execution_count": 1,
   "metadata": {},
   "outputs": [],
   "source": [
    "def apply_operation(x, y, op):\n",
    "    '''\n",
    "    ra = x + y\n",
    "    rs = x - y\n",
    "    rm = x * y\n",
    "    rd = x / y\n",
    "\n",
    "    r = dot(op, [ra, rs, rm, rd])\n",
    "    '''\n",
    "    if op == '+': return x + y \n",
    "    if op == '-': return x - y \n",
    "    if op == '*': return x * y \n",
    "    if op == '/': return x // y "
   ]
  },
  {
   "cell_type": "code",
   "execution_count": 2,
   "metadata": {},
   "outputs": [],
   "source": [
    "def is_operand(token, placeholders):\n",
    "    '''\n",
    "    token = softmax(token)\n",
    "    p_operand = reduce_sum(token[DIVIDING_INDEX:])\n",
    "    '''\n",
    "    return token in placeholders"
   ]
  },
  {
   "cell_type": "code",
   "execution_count": 3,
   "metadata": {},
   "outputs": [],
   "source": [
    "def operate(stack, token):\n",
    "    v2 = stack.pop()\n",
    "    v1 = stack.pop()\n",
    "    op = token\n",
    "\n",
    "    result = apply_operation(v1, v2, op)\n",
    "    stack.append(result)\n",
    "\n",
    "    return stack"
   ]
  },
  {
   "cell_type": "code",
   "execution_count": 4,
   "metadata": {},
   "outputs": [],
   "source": [
    "def placeholder_lookup(placeholders, token):\n",
    "    '''\n",
    "    p_candidate = softmax(token[DIVIDING_INDEX:])\n",
    "    candidate = dot(p_candidate, placeholder_vector)\n",
    "    '''\n",
    "    return placeholders[token] if token in placeholders else 0"
   ]
  },
  {
   "cell_type": "code",
   "execution_count": 5,
   "metadata": {},
   "outputs": [],
   "source": [
    "def token_step(stack, token, placeholders):\n",
    "    '''\n",
    "    lookup_value = placeholder_lookup(placeholders, token)\n",
    "    s1 = stack_push(stack, lookup_value)\n",
    "    s2 = operate(stack, token)\n",
    "\n",
    "    t = is_operand(token)\n",
    "    stack = t * s1 + (1 - t) * s2\n",
    "    '''\n",
    "    lookup_value = placeholder_lookup(placeholders, token)\n",
    "    if is_operand(token, placeholders):\n",
    "        stack.append(lookup_value)\n",
    "    else:\n",
    "        stack = operate(stack, token)\n",
    "    \n",
    "    return stack"
   ]
  },
  {
   "cell_type": "code",
   "execution_count": 6,
   "metadata": {},
   "outputs": [],
   "source": [
    "def evaluate(tokens, placeholders):\n",
    "    stack = []\n",
    "\n",
    "    for token in tokens:\n",
    "        print(token, stack)\n",
    "        stack = token_step(stack, token, placeholders)\n",
    "            \n",
    "    return stack"
   ]
  },
  {
   "cell_type": "code",
   "execution_count": 7,
   "metadata": {
    "tags": []
   },
   "outputs": [
    {
     "output_type": "stream",
     "name": "stdout",
     "text": "a []\nb [1]\nc [1, 2]\n* [1, 2, 3]\n+ [1, 6]\na [7]\n- [7, 1]\n[6]\n"
    }
   ],
   "source": [
    "print(evaluate(\"a b c * + a -\".split(' '), {'a':1, 'b':2, 'c':3})) "
   ]
  },
  {
   "cell_type": "code",
   "execution_count": 8,
   "metadata": {
    "tags": []
   },
   "outputs": [
    {
     "output_type": "stream",
     "name": "stdout",
     "text": "a []\nb [1]\n- [1, 2]\nc [-1]\nd [-1, 3]\n- [-1, 3, 4]\n- [-1, -1]\n[0]\n"
    }
   ],
   "source": [
    "print(evaluate(\"a b - c d - -\".split(' '), {'a':1, 'b':2, 'c':3, 'd':4})) "
   ]
  },
  {
   "cell_type": "code",
   "execution_count": null,
   "metadata": {},
   "outputs": [],
   "source": []
  }
 ]
}