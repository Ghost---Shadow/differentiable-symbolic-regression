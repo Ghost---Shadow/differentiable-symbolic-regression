{
 "metadata": {
  "language_info": {
   "codemirror_mode": {
    "name": "ipython",
    "version": 3
   },
   "file_extension": ".py",
   "mimetype": "text/x-python",
   "name": "python",
   "nbconvert_exporter": "python",
   "pygments_lexer": "ipython3",
   "version": "3.7.6-final"
  },
  "orig_nbformat": 2,
  "kernelspec": {
   "name": "python37664bit238183a89ccd4c25acc508071275f29e",
   "display_name": "Python 3.7.6 64-bit"
  }
 },
 "nbformat": 4,
 "nbformat_minor": 2,
 "cells": [
  {
   "cell_type": "code",
   "execution_count": 1,
   "metadata": {},
   "outputs": [],
   "source": [
    "import tensorflow as tf\n",
    "import numpy as np"
   ]
  },
  {
   "cell_type": "code",
   "execution_count": 2,
   "metadata": {},
   "outputs": [],
   "source": [
    "from regressor.equation_utils import pretty_print_guess_tensor, eqn_to_block_tensor\n",
    "from regressor.train import bind_opt_train_step"
   ]
  },
  {
   "cell_type": "code",
   "execution_count": 3,
   "metadata": {},
   "outputs": [
    {
     "output_type": "execute_result",
     "data": {
      "text/plain": "1.0"
     },
     "metadata": {},
     "execution_count": 3
    }
   ],
   "source": [
    "fn = lambda g, m1, m2, r, one, zero: ((g * m1) * (zero + m2)) / ((r * r) + (one * zero)) # (G * m1 * m2) / (r * r)\n",
    "# fn = lambda g, m1, m2, r, one, zero: ((m1 + m2) + (zero + zero)) + ((zero + zero) + (zero + zero))\n",
    "\n",
    "G = 1 # 6.67408e-11\n",
    "ONE = 1\n",
    "ZERO = 0\n",
    "\n",
    "fn(G, 2, 2, 2, ONE, ZERO)"
   ]
  },
  {
   "cell_type": "code",
   "execution_count": 4,
   "metadata": {},
   "outputs": [
    {
     "output_type": "execute_result",
     "data": {
      "text/plain": "array([[1.        , 1.66251499, 3.31238004, 9.96540146, 1.        ,\n        0.        ],\n       [1.        , 4.25640232, 2.52140422, 6.57827311, 1.        ,\n        0.        ]])"
     },
     "metadata": {},
     "execution_count": 4
    }
   ],
   "source": [
    "NUM_DATAPOINTS = 2\n",
    "NUM_VARS = 6\n",
    "LOW = 1\n",
    "HIGH = 10\n",
    "\n",
    "xs = np.reshape(np.random.uniform(LOW, HIGH, [NUM_DATAPOINTS * NUM_VARS]), [NUM_DATAPOINTS, NUM_VARS])\n",
    "xs[:,0] = G\n",
    "xs[:,4] = ONE\n",
    "xs[:,5] = ZERO\n",
    "xs"
   ]
  },
  {
   "cell_type": "code",
   "execution_count": 5,
   "metadata": {},
   "outputs": [
    {
     "output_type": "execute_result",
     "data": {
      "text/plain": "(<tf.Tensor: shape=(1,), dtype=float32, numpy=array([1.], dtype=float32)>,\n <tf.Tensor: shape=(1, 8, 6), dtype=float32, numpy=\n array([[[1., 0., 0., 0., 0., 0.],\n         [0., 1., 0., 0., 0., 0.],\n         [0., 0., 1., 0., 0., 0.],\n         [0., 0., 0., 1., 0., 0.],\n         [0., 0., 0., 0., 1., 0.],\n         [0., 0., 0., 0., 0., 1.],\n         [1., 0., 0., 0., 0., 0.],\n         [0., 1., 0., 0., 0., 0.]]], dtype=float32)>,\n <tf.Tensor: shape=(1, 3, 4, 4), dtype=float32, numpy=\n array([[[[1., 0., 0., 0.],\n          [0., 1., 0., 0.],\n          [0., 0., 1., 0.],\n          [0., 0., 0., 1.]],\n \n         [[1., 0., 0., 0.],\n          [0., 1., 0., 0.],\n          [0., 0., 1., 0.],\n          [0., 0., 0., 1.]],\n \n         [[1., 0., 0., 0.],\n          [0., 1., 0., 0.],\n          [0., 0., 1., 0.],\n          [0., 0., 0., 1.]]]], dtype=float32)>,\n <tf.Tensor: shape=(1, 2, 6), dtype=float32, numpy=\n array([[[1.       , 1.662515 , 3.31238  , 9.965402 , 1.       ,\n          0.       ],\n         [1.       , 4.2564025, 2.5214043, 6.5782733, 1.       ,\n          0.       ]]], dtype=float32)>,\n <tf.Tensor: shape=(1, 2, 1), dtype=float32, numpy=\n array([[[0.05545186],\n         [0.24800552]]], dtype=float32)>)"
     },
     "metadata": {},
     "execution_count": 5
    }
   ],
   "source": [
    "eqn_to_block_tensor(fn, xs)"
   ]
  },
  {
   "cell_type": "code",
   "execution_count": 6,
   "metadata": {
    "tags": []
   },
   "outputs": [],
   "source": [
    "NUM_DATAPOINTS = 100\n",
    "NUM_VARS = 6\n",
    "LOW = 1e-1\n",
    "HIGH = 1e+1\n",
    "TREE_DEPTH = 3\n",
    "\n",
    "xs = np.reshape(np.random.uniform(LOW, HIGH, [NUM_DATAPOINTS * NUM_VARS]), [NUM_DATAPOINTS, NUM_VARS])\n",
    "# xs = np.array([[1, 20,30,40, 1,0]], dtype=np.float32)\n",
    "\n",
    "xs[:,0] = G\n",
    "xs[:,4] = ONE\n",
    "xs[:,5] = ZERO"
   ]
  },
  {
   "cell_type": "code",
   "execution_count": 7,
   "metadata": {
    "tags": []
   },
   "outputs": [
    {
     "output_type": "stream",
     "name": "stdout",
     "text": "operand_guess [1 8 6]\noperator_guess [1 3 4 4]\nvalues [1 100 6]\ntarget [1 100 1]\n"
    }
   ],
   "source": [
    "constant_guess, operand_guess, operator_guess, values, target = eqn_to_block_tensor(fn, xs, TREE_DEPTH)\n",
    "# tf.print('constant_guess', tf.shape(constant_guess)) # TODO\n",
    "tf.print('operand_guess', tf.shape(operand_guess))\n",
    "tf.print('operator_guess', tf.shape(operator_guess))\n",
    "tf.print('values', tf.shape(values))\n",
    "tf.print('target', tf.shape(target))\n",
    "\n",
    "constant_guess = tf.Variable(constant_guess) # TODO\n",
    "operand_guess = tf.Variable(operand_guess)\n",
    "operator_guess = tf.Variable(operator_guess)"
   ]
  },
  {
   "cell_type": "code",
   "execution_count": 8,
   "metadata": {},
   "outputs": [],
   "source": [
    "lr_schedule = tf.keras.optimizers.schedules.ExponentialDecay(\n",
    "    1e-1,\n",
    "    decay_steps=100,\n",
    "    decay_rate=1e-1,\n",
    "    staircase=True)\n",
    "opt = tf.keras.optimizers.Adam(lr_schedule)\n",
    "train_step = bind_opt_train_step(opt, TREE_DEPTH)"
   ]
  },
  {
   "cell_type": "code",
   "execution_count": 9,
   "metadata": {
    "tags": []
   },
   "outputs": [
    {
     "output_type": "stream",
     "name": "stdout",
     "text": "201879.469 (((G + m1) + (m2 - r)) + ((1 * 0) - (G / m1)))\n207869.813 (((0 + 0) + (0 + 0)) - ((0 + 0) - (m1 + 0)))\n202304.766 (((0 + 0) + (0 + 0)) - ((0 + 0) - (m1 + m1)))\n202304.766 (((0 + 0) + (0 + 0)) - ((0 + 0) - (m1 + m1)))\n202304.766 (((0 + 0) + (0 + 0)) - ((0 + 0) - (m1 + m1)))\n202304.766 (((0 + 0) + (0 + 0)) - ((0 + 0) - (m1 + m1)))\n202304.766 (((0 + 0) + (0 + 0)) - ((0 + 0) - (m1 + m1)))\n202304.766 (((0 + 0) + (0 + 0)) - ((0 + 0) - (m1 + m1)))\n202304.766 (((0 + 0) + (0 + 0)) - ((0 + 0) - (m1 + m1)))\n202304.766 (((0 + 0) + (0 + 0)) - ((0 + 0) - (m1 + m1)))\ntf.Tensor(\n[[[ 1722.  -169.  1645.  1709.  1722.   258.]\n  [ 1720.  -168.  1643.  1707.  1720.   258.]\n  [ 1720.  -168.  1643.  1707.  1720.   258.]\n  [ 1717.  -168.  1641.  1704.  1717.   257.]\n  [ 1545.   895.  1304.  1167.  1558.  -238.]\n  [ 1542.   893.  1302.  1165.  1555.  -238.]\n  [ 7209. -1717.  7004.  7204.  7209.  1928.]\n  [ 7206. -1717.  7001.  7201.  7206.  1927.]]], shape=(1, 8, 6), dtype=float32)\ntf.Tensor(\n[[[[-1725.  1725.  1725.  1725.]\n   [-1722.  1722.  1722.  1722.]\n   [-1763.  1763.  1763.  1763.]\n   [ 1674.  1178.  -229.   854.]]\n\n  [[-1727.  1727.  1727.  1727.]\n   [ 1744.  -300.   300.  1744.]\n   [    0.     0.     0.     0.]\n   [    0.     0.     0.     0.]]\n\n  [[ 1749.  -301.   301.  1749.]\n   [    0.     0.     0.     0.]\n   [    0.     0.     0.     0.]\n   [    0.     0.     0.     0.]]]], shape=(1, 3, 4, 4), dtype=float32)\n"
    }
   ],
   "source": [
    "steps = 1000\n",
    "for i in range(steps):\n",
    "    loss, result, grads = train_step(constant_guess, operand_guess, operator_guess, values, target)\n",
    "\n",
    "    if i % (steps // 10) == 0:\n",
    "        print_row = lambda x: pretty_print_guess_tensor(constant_guess[x], operand_guess[x], operator_guess[x])\n",
    "        eqn_str = print_row(0).replace('x_0', 'G').replace('x_1', 'm1').replace('x_2', 'm2').replace('x_3', 'r').replace('x_4', '1').replace('x_5', '0')\n",
    "        tf.print(loss,eqn_str)\n",
    "print(tf.round(grads[0]))\n",
    "print(tf.round(grads[1]))"
   ]
  },
  {
   "cell_type": "code",
   "execution_count": 10,
   "metadata": {},
   "outputs": [
    {
     "output_type": "execute_result",
     "data": {
      "text/plain": "<tf.Tensor: shape=(1, 8, 6), dtype=float32, numpy=\narray([[[  0.,   1.,   0.,   0.,   0.,  99.],\n        [  0.,   1.,   0.,   0.,   0.,  99.],\n        [  0.,   1.,   0.,   0.,   0.,  99.],\n        [  0.,   0.,   0.,   0.,   0.,  99.],\n        [  0.,   0.,   0.,   0.,   0., 100.],\n        [  0.,   0.,   0.,   0.,   0., 100.],\n        [  0.,  70.,   0.,   0.,   0.,  29.],\n        [  0.,  72.,   0.,   0.,   0.,  28.]]], dtype=float32)>"
     },
     "metadata": {},
     "execution_count": 10
    }
   ],
   "source": [
    "tf.round(operand_guess * 100)"
   ]
  },
  {
   "cell_type": "code",
   "execution_count": 11,
   "metadata": {},
   "outputs": [
    {
     "output_type": "execute_result",
     "data": {
      "text/plain": "<tf.Tensor: shape=(1, 3, 4, 4), dtype=float32, numpy=\narray([[[[100.,   0.,   0.,   0.],\n         [100.,   0.,   0.,   0.],\n         [ 88.,   0.,  12.,   0.],\n         [ 54.,   0.,  46.,   0.]],\n\n        [[100.,   0.,   0.,   0.],\n         [  0., 100.,   0.,   0.],\n         [  0.,   0., 100.,   0.],\n         [  0.,   0.,   0., 100.]],\n\n        [[  0., 100.,   0.,   0.],\n         [  0., 100.,   0.,   0.],\n         [  0.,   0., 100.,   0.],\n         [  0.,   0.,   0., 100.]]]], dtype=float32)>"
     },
     "metadata": {},
     "execution_count": 11
    }
   ],
   "source": [
    "tf.round(operator_guess * 100)"
   ]
  },
  {
   "cell_type": "code",
   "execution_count": null,
   "metadata": {},
   "outputs": [],
   "source": []
  }
 ]
}