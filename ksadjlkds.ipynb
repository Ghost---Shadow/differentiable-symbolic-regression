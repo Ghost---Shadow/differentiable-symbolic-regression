{
 "metadata": {
  "language_info": {
   "codemirror_mode": {
    "name": "ipython",
    "version": 3
   },
   "file_extension": ".py",
   "mimetype": "text/x-python",
   "name": "python",
   "nbconvert_exporter": "python",
   "pygments_lexer": "ipython3",
   "version": "3.7.6-final"
  },
  "orig_nbformat": 2,
  "kernelspec": {
   "name": "python37664bit238183a89ccd4c25acc508071275f29e",
   "display_name": "Python 3.7.6 64-bit"
  }
 },
 "nbformat": 4,
 "nbformat_minor": 2,
 "cells": [
  {
   "cell_type": "code",
   "execution_count": 1,
   "metadata": {},
   "outputs": [],
   "source": [
    "import tensorflow as tf"
   ]
  },
  {
   "cell_type": "code",
   "execution_count": 2,
   "metadata": {},
   "outputs": [],
   "source": [
    "@tf.function\n",
    "def to_prob_dist_all(v):\n",
    "    v2 = tf.sqrt(tf.square(v)+1e-9)\n",
    "    # v2 = tf.sqrt(tf.square(v))\n",
    "    m = tf.expand_dims(tf.reduce_sum(v2, axis=-1),-1)\n",
    "    n = tf.math.divide_no_nan(v2, m)\n",
    "    return n"
   ]
  },
  {
   "cell_type": "code",
   "execution_count": 3,
   "metadata": {
    "tags": []
   },
   "outputs": [
    {
     "output_type": "stream",
     "name": "stdout",
     "text": "0.5 2 [[5.96046448e-08 0 0]]\n0.5 2 [[0 0 0]]\n0.5 2 [[2.98023224e-08 2.96442728e-08 2.96442728e-08]]\n0.5 2 [[5.96046412e-08 5.95177205e-08 5.95177205e-08]]\n0.5 2 [[0 0 0]]\n0.5 2 [[-2.98023224e-08 -2.97713303e-08 -2.97713303e-08]]\n0.5 2 [[2.98023224e-08 2.97866176e-08 2.97866176e-08]]\n0.5 2 [[-5.96046448e-08 -5.95884124e-08 -5.95884124e-08]]\n0.5 2 [[0 0 0]]\n0.5 2 [[2.98023224e-08 2.97949398e-08 2.97949398e-08]]\n"
    }
   ],
   "source": [
    "values = tf.constant([2,4,3], dtype=tf.float32)\n",
    "choice = tf.Variable([1,0,0], dtype=tf.float32)\n",
    "\n",
    "target = tf.constant([3], dtype=tf.float32)\n",
    "\n",
    "opt = tf.keras.optimizers.Adam(3e-4)\n",
    "\n",
    "steps = 1000\n",
    "\n",
    "for i in range(steps):\n",
    "    with tf.GradientTape() as tape:\n",
    "        # s_choice = tf.nn.softmax(choice)\n",
    "        s_choice = to_prob_dist_all(choice)\n",
    "        quantized = values[tf.argmax(s_choice)]\n",
    "        quantized = tf.tile(tf.expand_dims(quantized, 0),[3])\n",
    "        out = s_choice + tf.stop_gradient(quantized - s_choice)\n",
    "        out = tf.reduce_mean(out)\n",
    "\n",
    "        loss = tf.nn.l2_loss(out - target)\n",
    "\n",
    "    variables = [choice]\n",
    "    grads = tape.gradient(loss, variables)\n",
    "\n",
    "    opt.apply_gradients(zip(grads, variables))\n",
    "    choice.assign(to_prob_dist_all(choice))\n",
    "\n",
    "    if i % (steps // 10) == 0:\n",
    "        tf.print(loss, out, grads)"
   ]
  },
  {
   "cell_type": "code",
   "execution_count": null,
   "metadata": {},
   "outputs": [],
   "source": []
  }
 ]
}